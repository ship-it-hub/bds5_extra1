{
 "cells": [
  {
   "cell_type": "code",
   "execution_count": 1,
   "metadata": {},
   "outputs": [],
   "source": [
    "import os, uuid, sys\n",
    "from azure.storage.filedatalake import DataLakeServiceClient\n",
    "from azure.core._match_conditions import MatchConditions\n",
    "from azure.storage.filedatalake._models import ContentSettings"
   ]
  },
  {
   "cell_type": "code",
   "execution_count": 2,
   "metadata": {},
   "outputs": [],
   "source": [
    "storage_account_name = '<name of your storage account>'\n",
    "storage_account_key = '<your storage account access key>'"
   ]
  },
  {
   "cell_type": "code",
   "execution_count": 3,
   "metadata": {},
   "outputs": [],
   "source": [
    "try:  \n",
    "    global service_client\n",
    "        \n",
    "    service_client = DataLakeServiceClient(account_url=\"{}://{}.dfs.core.windows.net\".format(\n",
    "        \"https\", storage_account_name), credential=storage_account_key)\n",
    "    \n",
    "except Exception as e:\n",
    "    print(e)"
   ]
  },
  {
   "cell_type": "code",
   "execution_count": 12,
   "metadata": {},
   "outputs": [],
   "source": [
    "def create_file_system():\n",
    "    try:\n",
    "        global file_system_client\n",
    "\n",
    "        file_system_client = service_client.create_file_system(file_system=\"pyfold01\")\n",
    "    \n",
    "    except Exception as e:\n",
    "        print(e)"
   ]
  },
  {
   "cell_type": "code",
   "execution_count": 13,
   "metadata": {},
   "outputs": [],
   "source": [
    "create_file_system()"
   ]
  },
  {
   "cell_type": "code",
   "execution_count": 17,
   "metadata": {},
   "outputs": [],
   "source": [
    "def create_directory():\n",
    "    try:\n",
    "        file_system_client.create_directory(\"pyfold02/pyfold03/pyfold04/pyfold05\")\n",
    "    \n",
    "    except Exception as e:\n",
    "        print(e) "
   ]
  },
  {
   "cell_type": "code",
   "execution_count": 18,
   "metadata": {},
   "outputs": [],
   "source": [
    "create_directory()"
   ]
  },
  {
   "cell_type": "code",
   "execution_count": 19,
   "metadata": {},
   "outputs": [],
   "source": [
    "def upload_file_to_directory():\n",
    "    try:\n",
    "\n",
    "        file_system_client = service_client.get_file_system_client(file_system=\"pyfold01\")\n",
    "\n",
    "        directory_client = file_system_client.get_directory_client(\"pyfold02/pyfold03/pyfold04\")\n",
    "        \n",
    "        file_client = directory_client.create_file(\"uploaded-file.txt\")\n",
    "        local_file = open(\"file-to-upload.txt\",'rb')\n",
    "\n",
    "        file_contents = local_file.read()\n",
    "\n",
    "        file_client.append_data(data=file_contents, offset=0, length=len(file_contents))\n",
    "\n",
    "        file_client.flush_data(len(file_contents))\n",
    "\n",
    "    except Exception as e:\n",
    "        print(e) "
   ]
  },
  {
   "cell_type": "code",
   "execution_count": 20,
   "metadata": {},
   "outputs": [],
   "source": [
    "upload_file_to_directory()"
   ]
  }
 ],
 "metadata": {
  "kernelspec": {
   "display_name": "Python 3",
   "language": "python",
   "name": "python3"
  },
  "language_info": {
   "codemirror_mode": {
    "name": "ipython",
    "version": 3
   },
   "file_extension": ".py",
   "mimetype": "text/x-python",
   "name": "python",
   "nbconvert_exporter": "python",
   "pygments_lexer": "ipython3",
   "version": "3.8.5"
  }
 },
 "nbformat": 4,
 "nbformat_minor": 4
}
